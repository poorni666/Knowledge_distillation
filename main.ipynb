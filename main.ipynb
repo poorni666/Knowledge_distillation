{
  "cells": [
    {
      "cell_type": "markdown",
      "source": [
        "# **Knowledge Distillation for deep learning models**\n",
        "\n",
        "\n",
        "*   Teacher (ResNet50) -> Pretrained weights and then fine tuned to CIFAR10 dataset.\n",
        "*   Student (ResNet18)\n",
        "\n"
      ],
      "metadata": {
        "id": "lm7USemJW6Ah"
      }
    },
    {
      "cell_type": "code",
      "execution_count": 1,
      "metadata": {
        "id": "TYHPIbrG-Mc7"
      },
      "outputs": [],
      "source": [
        "#loading the libraries\n",
        "import math\n",
        "import numpy as np\n",
        "import pandas as pd\n",
        "import matplotlib.pyplot as plt\n",
        "import torch\n",
        "import torch.nn as nn\n",
        "import torch.nn.functional as F\n",
        "from torch.utils.data import random_split, DataLoader\n",
        "from torch.optim.lr_scheduler import ReduceLROnPlateau\n",
        "from torchvision import models\n",
        "import torchvision.transforms as transforms\n",
        "from torchvision.datasets import CIFAR10"
      ]
    },
    {
      "cell_type": "markdown",
      "source": [
        "# **Setting up the GPU**"
      ],
      "metadata": {
        "id": "3KG6lnjPXHua"
      }
    },
    {
      "cell_type": "code",
      "source": [
        "print(f\"PyTorch Version: {torch.__version__}\")\n",
        "device = torch.device(\"cuda\" if torch.cuda.is_available() else \"cpu\")\n",
        "print(f\"Device: {device}\")"
      ],
      "metadata": {
        "colab": {
          "base_uri": "https://localhost:8080/"
        },
        "id": "Ihi2jyo8XFwD",
        "outputId": "66d14dfa-88f9-491b-e27c-880f54e1872d"
      },
      "execution_count": 2,
      "outputs": [
        {
          "output_type": "stream",
          "name": "stdout",
          "text": [
            "PyTorch Version: 2.6.0+cu124\n",
            "Device: cuda\n"
          ]
        }
      ]
    },
    {
      "cell_type": "markdown",
      "source": [
        "# **Dataset preparation**"
      ],
      "metadata": {
        "id": "eYmCQkSOXNRL"
      }
    },
    {
      "cell_type": "code",
      "execution_count": 3,
      "metadata": {
        "colab": {
          "base_uri": "https://localhost:8080/"
        },
        "id": "Y-uhg88B_-Ly",
        "outputId": "876e2716-704e-4367-d193-593e87346ce6"
      },
      "outputs": [
        {
          "output_type": "stream",
          "name": "stdout",
          "text": [
            "Train samples: 45000\n",
            "Validation samples: 5000\n",
            "Test samples: 10000\n"
          ]
        }
      ],
      "source": [
        "# Convert images to tensors and normalize them using pre-calculated CIFAR-10 mean and std values\n",
        "transform = transforms.Compose([\n",
        "    transforms.ToTensor(),\n",
        "    transforms.Normalize(mean=[0.4914, 0.4822, 0.4465],\n",
        "                         std=[0.2023, 0.1994, 0.2010])\n",
        "])\n",
        "\n",
        "# load full CIFAR-10 train set\n",
        "train_set = CIFAR10(root='./data', train=True, download=True, transform=transform)\n",
        "test_set = CIFAR10(root='./data', train=False, download=True, transform=transform)\n",
        "\n",
        "# spliting sizes for train and validation sets\n",
        "total_size = len(train_set)\n",
        "train_size = int(0.9 * total_size)\n",
        "val_size = total_size - train_size\n",
        "\n",
        "# perform split\n",
        "train_subset, val_subset = random_split(train_set, [train_size, val_size])\n",
        "print(f\"Train samples: {train_size}\")\n",
        "print(f\"Validation samples: {val_size}\")\n",
        "print(f\"Test samples: {len(test_set)}\")\n",
        "\n",
        "# create DataLoaders\n",
        "BATCH_SIZE = 128\n",
        "train_loader = DataLoader(train_subset, batch_size= BATCH_SIZE, shuffle=True)\n",
        "val_loader = DataLoader(val_subset, batch_size= BATCH_SIZE, shuffle=False)\n",
        "test_loader = DataLoader(test_set, batch_size= BATCH_SIZE, shuffle=False)\n"
      ]
    },
    {
      "cell_type": "code",
      "source": [
        "from model_helpers import setup_models, extract_teacher_features\n",
        "from utils import count_params, measure_latency, evaluate_accuracy\n",
        "from distill_loss import distillation_loss, student_training_step\n",
        "from teacher_core import train_teacher\n",
        "from student_core import train_student\n",
        "import os"
      ],
      "metadata": {
        "colab": {
          "base_uri": "https://localhost:8080/"
        },
        "id": "xaHap-_kfkY0",
        "outputId": "ea568ab8-147f-4e3e-9bd4-b203d693cd08"
      },
      "execution_count": 4,
      "outputs": [
        {
          "output_type": "stream",
          "name": "stdout",
          "text": [
            "PyTorch Version: 2.6.0+cu124\n",
            "Device: cuda\n",
            "PyTorch Version: 2.6.0+cu124\n",
            "Device: cuda\n",
            "PyTorch Version: 2.6.0+cu124\n",
            "Device: cuda\n",
            "PyTorch Version: 2.6.0+cu124\n",
            "Device: cuda\n",
            "PyTorch Version: 2.6.0+cu124\n",
            "Device: cuda\n"
          ]
        }
      ]
    },
    {
      "cell_type": "code",
      "source": [
        "# Setup models first (this returns teacher and student_wrapper)\n",
        "teacher, student_wrapper = setup_models(device)"
      ],
      "metadata": {
        "id": "Y0FTbANIpVIY"
      },
      "execution_count": 5,
      "outputs": []
    },
    {
      "cell_type": "markdown",
      "source": [
        "# **Teacher model**"
      ],
      "metadata": {
        "id": "Ei_yl3T-eVw4"
      }
    },
    {
      "cell_type": "code",
      "execution_count": 6,
      "metadata": {
        "colab": {
          "base_uri": "https://localhost:8080/"
        },
        "id": "aHOoRYpKnc8T",
        "outputId": "c2ee32e4-2f46-4df3-88c6-151aa4f6a171"
      },
      "outputs": [
        {
          "output_type": "stream",
          "name": "stdout",
          "text": [
            "(Fine-tuning teacher)\tEpoch 1: loss=0.8133, Accuracy (validation): 79.80%\n",
            "(Fine-tuning teacher)\tEpoch 2: loss=0.4484, Accuracy (validation): 83.42%\n",
            "(Fine-tuning teacher)\tEpoch 3: loss=0.5439, Accuracy (validation): 84.14%\n",
            "(Fine-tuning teacher)\tEpoch 4: loss=0.3513, Accuracy (validation): 83.96%\n",
            "(Fine-tuning teacher)\tEpoch 5: loss=0.2241, Accuracy (validation): 84.12%\n",
            "(Fine-tuning teacher)\tEpoch 6: loss=0.1254, Accuracy (validation): 82.96%\n",
            "(Fine-tuning teacher)\tEpoch 7: loss=0.2714, Accuracy (validation): 85.48%\n",
            "(Fine-tuning teacher)\tEpoch 8: loss=0.1182, Accuracy (validation): 84.60%\n",
            "(Fine-tuning teacher)\tEpoch 9: loss=0.0782, Accuracy (validation): 85.62%\n",
            "(Fine-tuning teacher)\tEpoch 10: loss=0.1112, Accuracy (validation): 85.40%\n",
            "(Fine-tuning teacher)\tEpoch 11: loss=0.0757, Accuracy (validation): 84.94%\n",
            "(Fine-tuning teacher)\tEpoch 12: loss=0.1008, Accuracy (validation): 85.22%\n",
            "(Fine-tuning teacher)\tEpoch 13: loss=0.1285, Accuracy (validation): 85.66%\n",
            "(Fine-tuning teacher)\tEpoch 14: loss=0.1500, Accuracy (validation): 84.94%\n",
            "(Fine-tuning teacher)\tEpoch 15: loss=0.0080, Accuracy (validation): 85.62%\n",
            "(Fine-tuning teacher)\tEpoch 16: loss=0.0221, Accuracy (validation): 85.58%\n",
            "(Fine-tuning teacher)\tEpoch 17: loss=0.0482, Accuracy (validation): 85.72%\n",
            "(Fine-tuning teacher)\tEpoch 18: loss=0.0083, Accuracy (validation): 85.78%\n",
            "(Fine-tuning teacher)\tEpoch 19: loss=0.0790, Accuracy (validation): 84.58%\n",
            "(Fine-tuning teacher)\tEpoch 20: loss=0.0525, Accuracy (validation): 86.02%\n",
            "Training complete. Model saved to tuned_pretrained_resnet50_on_CIFAR10.pth\n"
          ]
        }
      ],
      "source": [
        "# train the teacher on CIFAR-10\n",
        "teacher = train_teacher(\n",
        "    teacher=teacher,\n",
        "    loader= train_loader,\n",
        "    val_loader= val_loader,\n",
        "    epochs=20,\n",
        "    tag=\"Fine-tuning teacher\",\n",
        "    save_path=\"tuned_pretrained_resnet50_on_CIFAR10.pth\"\n",
        ")\n"
      ]
    },
    {
      "cell_type": "markdown",
      "source": [
        "**Evaluation**"
      ],
      "metadata": {
        "id": "Pc8wtzLARf3E"
      }
    },
    {
      "cell_type": "code",
      "source": [
        "#evaluate the teacher model\n",
        "teacher_params = count_params(teacher)\n",
        "teacher_latency = measure_latency(teacher, device=device)\n",
        "teacher_acc = evaluate_accuracy(teacher, test_loader)\n",
        "\n",
        "#print the results\n",
        "\n",
        "print(f\"Teacher Params: {teacher_params / 1e6:.2f}M\")\n",
        "print(f\"Teacher Latency: {teacher_latency:.2f} ms\")\n",
        "print(f\"Teacher Test Accuracy: {teacher_acc * 100:.2f}%\")"
      ],
      "metadata": {
        "colab": {
          "base_uri": "https://localhost:8080/"
        },
        "id": "Zl9MLNHSQqa9",
        "outputId": "38749ba0-9780-4198-8a8a-bd8816490c3d"
      },
      "execution_count": 7,
      "outputs": [
        {
          "output_type": "stream",
          "name": "stdout",
          "text": [
            "Teacher Params: 23.53M\n",
            "Teacher Latency: 8.72 ms\n",
            "Teacher Test Accuracy: 85.11%\n"
          ]
        }
      ]
    },
    {
      "cell_type": "markdown",
      "source": [
        "## **Student Model via Knowledge Distillation**"
      ],
      "metadata": {
        "id": "AHr-7PNWeldr"
      }
    },
    {
      "cell_type": "code",
      "source": [
        "# train student training with fixed Temperature and Alpha\n",
        "student_fixed = train_student(teacher, student_wrapper, train_loader, val_loader, 20, device, fixed_T=5.0, fixed_alpha=0.7, save_path=\"student_fixed.pth\")\n"
      ],
      "metadata": {
        "id": "-RoTDEy3i61U",
        "colab": {
          "base_uri": "https://localhost:8080/"
        },
        "outputId": "99478301-5584-41ba-fff9-6fab90172815",
        "collapsed": true
      },
      "execution_count": 8,
      "outputs": [
        {
          "output_type": "stream",
          "name": "stdout",
          "text": [
            "[(Training student)\tEpoch 1] Loss = 10.5607 | Val Acc = 62.42%\n",
            "New best model saved.\n",
            "[(Training student)\tEpoch 2] Loss = 6.6346 | Val Acc = 67.36%\n",
            "New best model saved.\n",
            "[(Training student)\tEpoch 3] Loss = 4.9954 | Val Acc = 71.88%\n",
            "New best model saved.\n",
            "[(Training student)\tEpoch 4] Loss = 3.9482 | Val Acc = 71.78%\n",
            "[(Training student)\tEpoch 5] Loss = 3.1448 | Val Acc = 74.40%\n",
            "New best model saved.\n",
            "[(Training student)\tEpoch 6] Loss = 2.4659 | Val Acc = 74.60%\n",
            "New best model saved.\n",
            "[(Training student)\tEpoch 7] Loss = 2.0139 | Val Acc = 74.32%\n",
            "[(Training student)\tEpoch 8] Loss = 1.6365 | Val Acc = 75.86%\n",
            "New best model saved.\n",
            "[(Training student)\tEpoch 9] Loss = 1.3252 | Val Acc = 75.44%\n",
            "[(Training student)\tEpoch 10] Loss = 1.0997 | Val Acc = 76.12%\n",
            "New best model saved.\n",
            "[(Training student)\tEpoch 11] Loss = 0.9982 | Val Acc = 74.68%\n",
            "[(Training student)\tEpoch 12] Loss = 0.9988 | Val Acc = 75.44%\n",
            "[(Training student)\tEpoch 13] Loss = 0.9205 | Val Acc = 76.50%\n",
            "New best model saved.\n",
            "[(Training student)\tEpoch 14] Loss = 0.8813 | Val Acc = 76.76%\n",
            "New best model saved.\n",
            "[(Training student)\tEpoch 15] Loss = 0.8646 | Val Acc = 76.20%\n",
            "[(Training student)\tEpoch 16] Loss = 0.8801 | Val Acc = 76.36%\n",
            "[(Training student)\tEpoch 17] Loss = 0.8359 | Val Acc = 77.24%\n",
            "New best model saved.\n",
            "[(Training student)\tEpoch 18] Loss = 0.7975 | Val Acc = 76.60%\n",
            "[(Training student)\tEpoch 19] Loss = 0.7767 | Val Acc = 76.82%\n",
            "[(Training student)\tEpoch 20] Loss = 0.7688 | Val Acc = 76.46%\n"
          ]
        }
      ]
    },
    {
      "cell_type": "code",
      "source": [
        "# evaluate size, latency, and accuracy\n",
        "student_fixed_params = count_params(student_fixed)\n",
        "student_fixed_latency = measure_latency(student_fixed, device=device)\n",
        "student_fixed_acc = evaluate_accuracy(student_fixed, test_loader)\n",
        "\n",
        "\n",
        "print(f\"Student Fixed Params: {student_fixed_params / 1e6:.2f}M\")\n",
        "print(f\"Student Fixed Latency: {student_fixed_latency:.2f} ms\")\n",
        "print(f\"Student Fixed Test Accuracy: {student_fixed_acc * 100:.2f}%\")\n"
      ],
      "metadata": {
        "colab": {
          "base_uri": "https://localhost:8080/"
        },
        "id": "PYwgNLACRkSJ",
        "outputId": "3d76efb4-f978-4b4c-f23e-a0d09ff0ee32"
      },
      "execution_count": 9,
      "outputs": [
        {
          "output_type": "stream",
          "name": "stdout",
          "text": [
            "Student Fixed Params: 11.18M\n",
            "Student Fixed Latency: 3.93 ms\n",
            "Student Fixed Test Accuracy: 76.83%\n"
          ]
        }
      ]
    },
    {
      "cell_type": "markdown",
      "source": [
        "# **Hyperparameter tuning**"
      ],
      "metadata": {
        "id": "ExUjlgF-w558"
      }
    },
    {
      "cell_type": "markdown",
      "source": [
        "**Fixed Alpha and Temperature:**\n",
        "\n",
        "Alpha (α)\n",
        "*   High (e.g., 0.8): Focuses on soft labels — useful when the teacher is reliable.\n",
        "\n",
        "*   Low (e.g., 0.2): Emphasizes hard labels — better if the teacher isn’t perfect.\n",
        "\n",
        "Temperature (T)\n",
        "*  Low (1–2): Sharp outputs — can be too strict.\n",
        "\n",
        "* High (3–5): Softer outputs — easier for student to learn patterns.\n",
        "\n",
        "\n",
        "---\n",
        "\n",
        "\n",
        "**Temperature & Alpha Scheduling:**\n",
        "* Used exponential decay (0.95) for both:\n",
        "\n",
        "Temperature (0.5 → 0.3):\n",
        "* Starts high to soften the teacher's outputs, allowing the student to absorb nuanced, generalized knowledge. As it decays, the teacher’s predictions become sharper, helping the student refine its learning and align with confident teacher outputs.\n",
        "\n",
        "Alpha (0.8 → 0.5):\n",
        "* Initially gives more weight to the teacher’s soft targets, reinforcing transfer of knowledge. As training progresses, lower alpha encourages the student to rely more on hard labels, improving its own discriminative ability and generalization.\n",
        "\n"
      ],
      "metadata": {
        "id": "mq3kbFRLtZma"
      }
    },
    {
      "cell_type": "code",
      "source": [
        "#T value between (5.0, 3.0) and aplha value between (0.8, 0.5 )\n",
        "student_schedule = train_student(teacher, student_wrapper, train_loader, val_loader, 20, device,  save_path=\"student_schedule.pth\")"
      ],
      "metadata": {
        "colab": {
          "base_uri": "https://localhost:8080/"
        },
        "id": "g4jcHyIgnTR2",
        "outputId": "d8e28dd4-c7b1-47e5-fd54-24f671ef5aea"
      },
      "execution_count": 6,
      "outputs": [
        {
          "output_type": "stream",
          "name": "stdout",
          "text": [
            "[(Training student)\tEpoch 1] Loss = 1.4867 | Val Acc = 51.22%\n",
            "New best model saved.\n",
            "[(Training student)\tEpoch 2] Loss = 1.3632 | Val Acc = 52.94%\n",
            "New best model saved.\n",
            "[(Training student)\tEpoch 3] Loss = 1.3385 | Val Acc = 66.78%\n",
            "New best model saved.\n",
            "[(Training student)\tEpoch 4] Loss = 1.3185 | Val Acc = 70.32%\n",
            "New best model saved.\n",
            "[(Training student)\tEpoch 5] Loss = 1.3099 | Val Acc = 72.86%\n",
            "New best model saved.\n",
            "[(Training student)\tEpoch 6] Loss = 1.2938 | Val Acc = 72.74%\n",
            "[(Training student)\tEpoch 7] Loss = 1.2786 | Val Acc = 76.02%\n",
            "New best model saved.\n",
            "[(Training student)\tEpoch 8] Loss = 1.2127 | Val Acc = 77.48%\n",
            "New best model saved.\n",
            "[(Training student)\tEpoch 9] Loss = 1.1863 | Val Acc = 77.36%\n",
            "[(Training student)\tEpoch 10] Loss = 1.1775 | Val Acc = 76.28%\n",
            "[(Training student)\tEpoch 11] Loss = 1.1603 | Val Acc = 77.64%\n",
            "New best model saved.\n",
            "[(Training student)\tEpoch 12] Loss = 1.1467 | Val Acc = 76.02%\n",
            "[(Training student)\tEpoch 13] Loss = 1.1414 | Val Acc = 77.98%\n",
            "New best model saved.\n",
            "[(Training student)\tEpoch 14] Loss = 1.1297 | Val Acc = 77.44%\n",
            "[(Training student)\tEpoch 15] Loss = 1.1233 | Val Acc = 77.50%\n",
            "[(Training student)\tEpoch 16] Loss = 1.1138 | Val Acc = 77.68%\n",
            "[(Training student)\tEpoch 17] Loss = 1.1108 | Val Acc = 78.18%\n",
            "New best model saved.\n",
            "[(Training student)\tEpoch 18] Loss = 1.1013 | Val Acc = 78.04%\n",
            "[(Training student)\tEpoch 19] Loss = 1.1024 | Val Acc = 77.92%\n",
            "[(Training student)\tEpoch 20] Loss = 1.1010 | Val Acc = 78.44%\n",
            "New best model saved.\n"
          ]
        }
      ]
    },
    {
      "cell_type": "code",
      "source": [
        "# evaluate size, latency, and accuracy\n",
        "student_schedule_params = count_params(student_schedule)\n",
        "student_schedule_latency = measure_latency(student_schedule, device=device)\n",
        "student_schedule_acc = evaluate_accuracy(student_schedule, test_loader)\n",
        "\n",
        "\n",
        "print(f\"Student_schedule Params: {student_schedule_params / 1e6:.2f}M\")\n",
        "print(f\"Student_schedule Latency: {student_schedule_latency:.2f} ms\")\n",
        "print(f\"Student_schedule Accuracy: {student_schedule_acc * 100:.2f}%\")"
      ],
      "metadata": {
        "colab": {
          "base_uri": "https://localhost:8080/"
        },
        "id": "0jgd8bJDR6zS",
        "outputId": "8debf9a3-eb19-4230-bed4-ee4a64ee82c2"
      },
      "execution_count": 7,
      "outputs": [
        {
          "output_type": "stream",
          "name": "stdout",
          "text": [
            "Student Fixed Params: 11.18M\n",
            "Student Fixed Latency: 4.10 ms\n",
            "Student Fixed Test Accuracy: 78.60%\n"
          ]
        }
      ]
    },
    {
      "cell_type": "markdown",
      "source": [
        "# **Student Model without Knowledge Distillation**"
      ],
      "metadata": {
        "id": "cacNrAFZpI33"
      }
    },
    {
      "cell_type": "code",
      "source": [
        "# define baseline student: ResNet18 training from scratch on its own, re-headed for CIFAR-10\n",
        "baseline_student = models.resnet18(weights=None)\n",
        "baseline_student.fc = nn.Linear(512, 10).to(device)\n",
        "baseline_student = baseline_student.to(device)\n",
        "\n",
        "# Train the baseline student on CIFAR-10\n",
        "baseline_student = train_teacher(baseline_student, train_loader, val_loader, epochs=20, tag=\"baseline-student\", save_path=\"baseline_student.pth\")\n",
        "\n",
        "# Evaluate baseline student\n",
        "baseline_student_acc = evaluate_accuracy(baseline_student, test_loader)\n",
        "print(f\"\\nBaseline Student Test Accuracy: {baseline_student_acc * 100:.2f}%\")"
      ],
      "metadata": {
        "colab": {
          "base_uri": "https://localhost:8080/"
        },
        "id": "uCfsjL_lpITX",
        "outputId": "6652a474-6755-4aa6-d420-952d44166821"
      },
      "execution_count": 9,
      "outputs": [
        {
          "output_type": "stream",
          "name": "stdout",
          "text": [
            "Model already trained. Loading from baseline_student.pth\n",
            "\n",
            "Baseline Student Test Accuracy: 75.06%\n"
          ]
        }
      ]
    },
    {
      "cell_type": "code",
      "source": [
        "# evaluate size, latency, and accuracy\n",
        "baseline_student_params = count_params(baseline_student)\n",
        "baseline_student_latency = measure_latency(baseline_student, device=device)\n",
        "baseline_student_acc = evaluate_accuracy(baseline_student, test_loader)\n",
        "\n",
        "\n",
        "print(f\"baseline_student_Params: {baseline_student_params / 1e6:.2f}M\")\n",
        "print(f\"baseline_student Latency: {baseline_student_latency:.2f} ms\")\n",
        "print(f\"baseline_student Test Accuracy: {baseline_student_acc * 100:.2f}%\")"
      ],
      "metadata": {
        "colab": {
          "base_uri": "https://localhost:8080/"
        },
        "id": "MjkCq_69SJGq",
        "outputId": "c0cb6c7a-b3cc-4cdd-87df-e9d47c838e50"
      },
      "execution_count": 14,
      "outputs": [
        {
          "output_type": "stream",
          "name": "stdout",
          "text": [
            "baseline_student_Params: 11.18M\n",
            "baseline_student Latency: 4.72 ms\n",
            "baseline_student Test Accuracy: 75.06%\n"
          ]
        }
      ]
    },
    {
      "cell_type": "markdown",
      "source": [
        "# **Comparision Table**"
      ],
      "metadata": {
        "id": "MK8XbtlapCev"
      }
    },
    {
      "cell_type": "code",
      "source": [
        "import pandas as pd\n",
        "from IPython.display import display\n",
        "\n",
        "data = {\n",
        "    \"Model\": [\"Teacher\", \"Student_Schedule (distilled best)\", \"student_fixed (distilled)\", \"Baseline Student\"],\n",
        "    \"Accuracy (%)\": [85.11,78.60,76.80,75.06],\n",
        "    \"Parameters (M)\": [23.53,11.18,11.18,11.18],\n",
        "    \"Latency (ms)\": [8.72,3.9,4.1,4.72],\n",
        "}\n",
        "\n",
        "df = pd.DataFrame(data)\n",
        "\n",
        "# Function to color rows based on model name\n",
        "def highlight_models(row):\n",
        "    color = ''\n",
        "    text_color = 'color: black;'\n",
        "    if row['Model'] == 'Teacher':\n",
        "        color = 'background-color: #cc4c4c; ' + text_color\n",
        "    elif row['Model'] == 'Student_Schedule (distilled best)':\n",
        "        color = 'background-color: #4caf50; ' + text_color\n",
        "    elif row['Model'] == 'Baseline Student':\n",
        "        color = 'background-color: #82b4e3; ' + text_color\n",
        "    return [color] * len(row)\n",
        "\n",
        "# Display the styled dataframe\n",
        "styled_df = df.style.apply(highlight_models, axis=1).set_caption(\"Model Comparison Table\")\n",
        "display(styled_df)\n"
      ],
      "metadata": {
        "colab": {
          "base_uri": "https://localhost:8080/",
          "height": 192
        },
        "id": "TlZyW0R19rtc",
        "outputId": "128f7f17-b656-4d72-8034-e463df64a84c"
      },
      "execution_count": 28,
      "outputs": [
        {
          "output_type": "display_data",
          "data": {
            "text/plain": [
              "<pandas.io.formats.style.Styler at 0x797150cc4c50>"
            ],
            "text/html": [
              "<style type=\"text/css\">\n",
              "#T_5b224_row0_col0, #T_5b224_row0_col1, #T_5b224_row0_col2, #T_5b224_row0_col3 {\n",
              "  background-color: #cc4c4c;\n",
              "  color: black;\n",
              "}\n",
              "#T_5b224_row1_col0, #T_5b224_row1_col1, #T_5b224_row1_col2, #T_5b224_row1_col3 {\n",
              "  background-color: #4caf50;\n",
              "  color: black;\n",
              "}\n",
              "#T_5b224_row3_col0, #T_5b224_row3_col1, #T_5b224_row3_col2, #T_5b224_row3_col3 {\n",
              "  background-color: #82b4e3;\n",
              "  color: black;\n",
              "}\n",
              "</style>\n",
              "<table id=\"T_5b224\" class=\"dataframe\">\n",
              "  <caption>Model Comparison Table</caption>\n",
              "  <thead>\n",
              "    <tr>\n",
              "      <th class=\"blank level0\" >&nbsp;</th>\n",
              "      <th id=\"T_5b224_level0_col0\" class=\"col_heading level0 col0\" >Model</th>\n",
              "      <th id=\"T_5b224_level0_col1\" class=\"col_heading level0 col1\" >Accuracy (%)</th>\n",
              "      <th id=\"T_5b224_level0_col2\" class=\"col_heading level0 col2\" >Parameters (M)</th>\n",
              "      <th id=\"T_5b224_level0_col3\" class=\"col_heading level0 col3\" >Latency (ms)</th>\n",
              "    </tr>\n",
              "  </thead>\n",
              "  <tbody>\n",
              "    <tr>\n",
              "      <th id=\"T_5b224_level0_row0\" class=\"row_heading level0 row0\" >0</th>\n",
              "      <td id=\"T_5b224_row0_col0\" class=\"data row0 col0\" >Teacher</td>\n",
              "      <td id=\"T_5b224_row0_col1\" class=\"data row0 col1\" >85.110000</td>\n",
              "      <td id=\"T_5b224_row0_col2\" class=\"data row0 col2\" >23.530000</td>\n",
              "      <td id=\"T_5b224_row0_col3\" class=\"data row0 col3\" >8.720000</td>\n",
              "    </tr>\n",
              "    <tr>\n",
              "      <th id=\"T_5b224_level0_row1\" class=\"row_heading level0 row1\" >1</th>\n",
              "      <td id=\"T_5b224_row1_col0\" class=\"data row1 col0\" >Student_Schedule (distilled best)</td>\n",
              "      <td id=\"T_5b224_row1_col1\" class=\"data row1 col1\" >78.600000</td>\n",
              "      <td id=\"T_5b224_row1_col2\" class=\"data row1 col2\" >11.180000</td>\n",
              "      <td id=\"T_5b224_row1_col3\" class=\"data row1 col3\" >3.900000</td>\n",
              "    </tr>\n",
              "    <tr>\n",
              "      <th id=\"T_5b224_level0_row2\" class=\"row_heading level0 row2\" >2</th>\n",
              "      <td id=\"T_5b224_row2_col0\" class=\"data row2 col0\" >student_fixed (distilled)</td>\n",
              "      <td id=\"T_5b224_row2_col1\" class=\"data row2 col1\" >76.800000</td>\n",
              "      <td id=\"T_5b224_row2_col2\" class=\"data row2 col2\" >11.180000</td>\n",
              "      <td id=\"T_5b224_row2_col3\" class=\"data row2 col3\" >4.100000</td>\n",
              "    </tr>\n",
              "    <tr>\n",
              "      <th id=\"T_5b224_level0_row3\" class=\"row_heading level0 row3\" >3</th>\n",
              "      <td id=\"T_5b224_row3_col0\" class=\"data row3 col0\" >Baseline Student</td>\n",
              "      <td id=\"T_5b224_row3_col1\" class=\"data row3 col1\" >75.060000</td>\n",
              "      <td id=\"T_5b224_row3_col2\" class=\"data row3 col2\" >11.180000</td>\n",
              "      <td id=\"T_5b224_row3_col3\" class=\"data row3 col3\" >4.720000</td>\n",
              "    </tr>\n",
              "  </tbody>\n",
              "</table>\n"
            ]
          },
          "metadata": {}
        }
      ]
    },
    {
      "cell_type": "markdown",
      "source": [
        "# **Drafts :** Experimented with tuning T and Alpha to find the best student model"
      ],
      "metadata": {
        "id": "R3Jdx4-w3HFp"
      }
    },
    {
      "cell_type": "code",
      "source": [
        "# train student training with fixed Temperature 5.0 and Alpha 0.8\n",
        "student_fixed1 = train_student(teacher, student_wrapper, train_loader, val_loader, 20, device, fixed_T=5.0, fixed_alpha=0.8, save_path=\"student_fixed1.pth\")"
      ],
      "metadata": {
        "colab": {
          "base_uri": "https://localhost:8080/"
        },
        "id": "3Tj635zYwBSG",
        "outputId": "299ec585-7e71-4f67-8b2c-8f90c9ca4b91",
        "collapsed": true
      },
      "execution_count": 7,
      "outputs": [
        {
          "output_type": "stream",
          "name": "stdout",
          "text": [
            "[(Training student)\tEpoch 1] Loss = 1.4536 | Val Acc = 52.54%\n",
            "New best model saved.\n",
            "[(Training student)\tEpoch 2] Loss = 1.3312 | Val Acc = 63.24%\n",
            "New best model saved.\n",
            "[(Training student)\tEpoch 3] Loss = 1.3026 | Val Acc = 69.54%\n",
            "New best model saved.\n",
            "[(Training student)\tEpoch 4] Loss = 1.2886 | Val Acc = 71.78%\n",
            "New best model saved.\n",
            "[(Training student)\tEpoch 5] Loss = 1.2781 | Val Acc = 72.84%\n",
            "New best model saved.\n",
            "[(Training student)\tEpoch 6] Loss = 1.2663 | Val Acc = 74.38%\n",
            "New best model saved.\n",
            "[(Training student)\tEpoch 7] Loss = 1.2534 | Val Acc = 71.00%\n",
            "[(Training student)\tEpoch 8] Loss = 1.1908 | Val Acc = 76.52%\n",
            "New best model saved.\n",
            "[(Training student)\tEpoch 9] Loss = 1.1655 | Val Acc = 78.98%\n",
            "New best model saved.\n",
            "[(Training student)\tEpoch 10] Loss = 1.1553 | Val Acc = 77.50%\n",
            "[(Training student)\tEpoch 11] Loss = 1.1427 | Val Acc = 78.92%\n",
            "[(Training student)\tEpoch 12] Loss = 1.1260 | Val Acc = 78.06%\n",
            "[(Training student)\tEpoch 13] Loss = 1.1115 | Val Acc = 78.68%\n",
            "[(Training student)\tEpoch 14] Loss = 1.0894 | Val Acc = 80.40%\n",
            "New best model saved.\n",
            "[(Training student)\tEpoch 15] Loss = 1.0766 | Val Acc = 79.90%\n",
            "[(Training student)\tEpoch 16] Loss = 1.0692 | Val Acc = 80.00%\n",
            "[(Training student)\tEpoch 17] Loss = 1.0650 | Val Acc = 80.02%\n",
            "[(Training student)\tEpoch 18] Loss = 1.0589 | Val Acc = 79.98%\n",
            "[(Training student)\tEpoch 19] Loss = 1.0544 | Val Acc = 80.22%\n",
            "[(Training student)\tEpoch 20] Loss = 1.0526 | Val Acc = 78.92%\n"
          ]
        }
      ]
    },
    {
      "cell_type": "code",
      "source": [
        "#train the student with Temperature and Alpha scheduling\n",
        "student = train_student(teacher, student_wrapper, train_loader, val_loader, 20, device)"
      ],
      "metadata": {
        "colab": {
          "base_uri": "https://localhost:8080/"
        },
        "id": "UkzVZtq-5Xqu",
        "outputId": "3f1695a7-8359-48d0-f3cb-d9793435e842",
        "collapsed": true
      },
      "execution_count": null,
      "outputs": [
        {
          "output_type": "stream",
          "name": "stdout",
          "text": [
            "[(Training student)\tEpoch 1] Loss = 1.6438 | Val Acc = 52.04%\n",
            "New best model saved.\n",
            "[(Training student)\tEpoch 2] Loss = 1.5064 | Val Acc = 64.16%\n",
            "New best model saved.\n",
            "[(Training student)\tEpoch 3] Loss = 1.4677 | Val Acc = 67.76%\n",
            "New best model saved.\n",
            "[(Training student)\tEpoch 4] Loss = 1.4380 | Val Acc = 69.50%\n",
            "New best model saved.\n",
            "[(Training student)\tEpoch 5] Loss = 1.4155 | Val Acc = 72.76%\n",
            "New best model saved.\n",
            "[(Training student)\tEpoch 6] Loss = 1.3811 | Val Acc = 74.28%\n",
            "New best model saved.\n",
            "[(Training student)\tEpoch 7] Loss = 1.3503 | Val Acc = 71.84%\n",
            "[(Training student)\tEpoch 8] Loss = 1.3178 | Val Acc = 76.32%\n",
            "New best model saved.\n",
            "[(Training student)\tEpoch 9] Loss = 1.2723 | Val Acc = 75.42%\n",
            "[(Training student)\tEpoch 10] Loss = 1.2424 | Val Acc = 75.46%\n",
            "[(Training student)\tEpoch 11] Loss = 1.2093 | Val Acc = 76.66%\n",
            "New best model saved.\n",
            "[(Training student)\tEpoch 12] Loss = 1.1779 | Val Acc = 76.98%\n",
            "New best model saved.\n",
            "[(Training student)\tEpoch 13] Loss = 1.1598 | Val Acc = 77.26%\n",
            "New best model saved.\n",
            "[(Training student)\tEpoch 14] Loss = 1.1287 | Val Acc = 77.06%\n",
            "[(Training student)\tEpoch 15] Loss = 1.1070 | Val Acc = 76.96%\n",
            "[(Training student)\tEpoch 16] Loss = 1.0920 | Val Acc = 76.58%\n",
            "[(Training student)\tEpoch 17] Loss = 1.0608 | Val Acc = 77.56%\n",
            "New best model saved.\n",
            "[(Training student)\tEpoch 18] Loss = 1.0422 | Val Acc = 78.44%\n",
            "New best model saved.\n",
            "[(Training student)\tEpoch 19] Loss = 1.0280 | Val Acc = 76.64%\n",
            "[(Training student)\tEpoch 20] Loss = 1.0063 | Val Acc = 78.08%\n"
          ]
        }
      ]
    },
    {
      "cell_type": "code",
      "source": [
        "student_schedule1 = train_student(teacher, student_wrapper, train_loader, val_loader, 20, device,  save_path=\"student_schedule1.pth\")"
      ],
      "metadata": {
        "colab": {
          "base_uri": "https://localhost:8080/"
        },
        "id": "B2aonUn3kp2_",
        "outputId": "5f1ae967-936d-4071-99c0-5b72825e12df",
        "collapsed": true
      },
      "execution_count": null,
      "outputs": [
        {
          "output_type": "stream",
          "name": "stdout",
          "text": [
            "[(Training student)\tEpoch 1] Loss = 1.3132 | Val Acc = 50.66%\n",
            "New best model saved.\n",
            "[(Training student)\tEpoch 2] Loss = 1.2714 | Val Acc = 66.18%\n",
            "New best model saved.\n",
            "[(Training student)\tEpoch 3] Loss = 1.2601 | Val Acc = 70.16%\n",
            "New best model saved.\n",
            "[(Training student)\tEpoch 4] Loss = 1.2461 | Val Acc = 73.44%\n",
            "New best model saved.\n",
            "[(Training student)\tEpoch 5] Loss = 1.2384 | Val Acc = 74.96%\n",
            "New best model saved.\n",
            "[(Training student)\tEpoch 6] Loss = 1.2265 | Val Acc = 74.38%\n",
            "[(Training student)\tEpoch 7] Loss = 1.2136 | Val Acc = 77.74%\n",
            "New best model saved.\n",
            "[(Training student)\tEpoch 8] Loss = 1.1478 | Val Acc = 79.30%\n",
            "New best model saved.\n",
            "[(Training student)\tEpoch 9] Loss = 1.1313 | Val Acc = 79.08%\n",
            "[(Training student)\tEpoch 10] Loss = 1.1226 | Val Acc = 78.80%\n",
            "[(Training student)\tEpoch 11] Loss = 1.1122 | Val Acc = 79.36%\n",
            "New best model saved.\n",
            "[(Training student)\tEpoch 12] Loss = 1.1033 | Val Acc = 79.26%\n",
            "[(Training student)\tEpoch 13] Loss = 1.0993 | Val Acc = 78.66%\n",
            "[(Training student)\tEpoch 14] Loss = 1.0791 | Val Acc = 80.50%\n",
            "New best model saved.\n",
            "[(Training student)\tEpoch 15] Loss = 1.0750 | Val Acc = 80.60%\n",
            "New best model saved.\n",
            "[(Training student)\tEpoch 16] Loss = 1.0687 | Val Acc = 80.62%\n",
            "New best model saved.\n",
            "[(Training student)\tEpoch 17] Loss = 1.0683 | Val Acc = 80.18%\n",
            "[(Training student)\tEpoch 18] Loss = 1.0610 | Val Acc = 80.48%\n",
            "[(Training student)\tEpoch 19] Loss = 1.0615 | Val Acc = 80.62%\n",
            "[(Training student)\tEpoch 20] Loss = 1.0566 | Val Acc = 80.52%\n"
          ]
        }
      ]
    }
  ],
  "metadata": {
    "colab": {
      "provenance": [],
      "gpuType": "T4",
      "collapsed_sections": [
        "R3Jdx4-w3HFp"
      ]
    },
    "kernelspec": {
      "display_name": "Python 3",
      "name": "python3"
    },
    "language_info": {
      "name": "python"
    },
    "accelerator": "GPU"
  },
  "nbformat": 4,
  "nbformat_minor": 0
}
